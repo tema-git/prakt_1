{
  "cells": [
    {
      "cell_type": "code",
      "execution_count": null,
      "id": "218aebec",
      "metadata": {
        "id": "218aebec"
      },
      "outputs": [],
      "source": [
        "import os\n",
        "import re\n",
        "import random"
      ]
    },
    {
      "cell_type": "markdown",
      "id": "15820432",
      "metadata": {
        "id": "15820432"
      },
      "source": [
        "Исходные данные:\n",
        "\n",
        "Папка, содержащая неструктурированные текстовые файлы, созданные разными отделами организации.\n",
        "Имя файла должно содержать название отдела\n",
        "Результат:\n",
        "\n",
        "При запуске программы выбирается папка\n",
        "Создается папка \"Прочее\", если она не существует.\n",
        "Из имени файла достается название отдела и файл добавляется в папку отдела. Если такой папки нет, то папка создается.\n",
        "При отсутствии названия отдела, файл помещается в папку \"Прочее\"\n",
        "﻿﻿\n",
        "Дополнительные задания:\n",
        "\n",
        "Работа с разными типами файла и дополнительная сортировка в подкатегории по типу файлов. (2 балла)\n",
        "Графический интерфейс (3 балла)"
      ]
    },
    {
      "cell_type": "code",
      "execution_count": null,
      "id": "f13cbbf1",
      "metadata": {
        "id": "f13cbbf1"
      },
      "outputs": [],
      "source": [
        "all_files = os.listdir('.')\n",
        "\n",
        "for ind,i in enumerate(all_files):\n",
        "    if os.path.isfile(i):                       # проверяем, что это файл\n",
        "        res = re.compile(r'(Logistics|IT|Administration|Marketing)')\n",
        "        if res.findall(all_files[ind]) == []:        # если не нашли названия отделов\n",
        "            if not os.path.isdir('other'):          # проверяем есть ли папка с названием other\n",
        "                os.mkdir('other')\n",
        "            \n",
        "            f_type = i.split('.')[1]\n",
        "            if not os.path.isdir('other/' + str(f_type)):               # проверяем есть ли папка с типом файла\n",
        "                os.mkdir('other/' + str(f_type))\n",
        "            os.replace(i,'other/'+str(f_type)+'/'+i)\n",
        "            \n",
        "        else:           # если нашли названия отделов\n",
        "            department = res.findall(all_files[ind])[0]         # имя отдела в названии файла\n",
        "            if not os.path.isdir(str(department)):               # проверяем есть ли папка с названием отдела\n",
        "                os.mkdir(str(department)) \n",
        "            \n",
        "            f_type = i.split('.')[1]\n",
        "            if not os.path.isdir(str(department) + '/' + str(f_type)):               # проверяем есть ли папка с типом файла\n",
        "                os.mkdir(str(department) + '/' + str(f_type))\n",
        "            os.replace(i,str(department)+'/'+str(f_type)+'/'+i)\n",
        "               "
      ]
    },
    {
      "cell_type": "code",
      "execution_count": null,
      "id": "5af7d3ac",
      "metadata": {
        "id": "5af7d3ac"
      },
      "outputs": [],
      "source": [
        "# возвращаем  файл с программой в исходную папку\n",
        "name = \"no_name.ipynb\"\n",
        "os.replace('other/ipynb/'+ name,name)"
      ]
    },
    {
      "cell_type": "code",
      "execution_count": null,
      "id": "a0655a72",
      "metadata": {
        "id": "a0655a72"
      },
      "outputs": [],
      "source": []
    },
    {
      "cell_type": "code",
      "execution_count": null,
      "id": "a14b7571",
      "metadata": {
        "id": "a14b7571"
      },
      "outputs": [],
      "source": [
        "# создаём файлы\n",
        "departments = [\"Administration\",\"Marketing\",\"IT\",\"Logistics\"]\n",
        "sign = [' ', '_',',',':']\n",
        "f_types = ['.txt', '.jpeg', '.csv', '.doc', 'xlsx']\n",
        "f_types = ['.txt', '.ipynb', '.py', '.csv']\n",
        "# names = 'Nathan Flores,Francis Wilson,Roger Carr,Nicholas Holmes,Anne Smith,Claudia Black,Joseph Butler,Nancy Johnston,Barbara Johnson,Michael Brown,Jennifer Williams,Fred Collins,Gloria Brown,John Elliott,Raul Smith,George Henry,Harry Davidson,Bernice Williams,Brian Joseph,Robert Sharp'\n",
        "names = 'Jeffery Kelly,Ramona George,Walter Sanchez,Denise Fields,Maxine Jimenez,Sharon Summers,Juan Guzman,Kevin Bradley,George Garcia,Debra McDaniel,Christina Brooks,Mary Hunt,Michael Rogers,Ruth Reed,Jacob Tyler,Ida Gross,Jason Poole,Eva Newman,Geraldine Anderson,Janice Turner,Louis Banks,Claudia Jones,Chris Curtis,David Joseph,Ruth Ortega,Joseph Pena,Christy Wise,Kathryn Johnson,Edwin Schneider,Lance Gross,Wallace Washington,Edward Vega,Edward Wright,Edward Martinez,Ethel Thomas,Linda Harrington,Paul Brown,Joann Thomas,Suzanne Woods,Pamela Adams,Roy Walker,Jacqueline Johnson,Sara Evans,Jennifer Morton,Florence Willis,Norman Davis,Jerry Walker,Hazel Kelly,Phillip Vasquez,Grace Parker,Annie Wheeler,Oscar Baker,Francisco Blair,Debra Bishop,Rosemary Hart,Valerie Stephens,Pamela Ramos,Susan Adams,Henry Parsons,Maureen Mitchell,Elaine Cole,Stephen Lawrence,Daniel Shaw,Ralph Rice,Rosa Ballard,James Williams,Mary Schultz,Terri Lee,Christina Burton,Gregory Hammond,Jane Adams,Alfred Ray,Wanda Davis,Patricia Adams,Teresa Allen,Karen Soto,Matthew Jones,Stephanie Shaw,Paula Lee,Shirley McKinney,Sandra Baker,Robert Kennedy,Jon Cox,Erica Montgomery,Justin Lewis,Dorothy Young,Lauren Brock,Lorraine Burke,Matthew Todd,Samuel Sanchez,Troy Anderson,John Thomas,David Smith,Charles Brown,Michael Medina,Jack Rios,Jennifer Barnes,Emma Taylor,Craig Walker,Jo Parker'\n",
        "names = names.split(',')\n",
        "\n",
        "n_1, n_last = names[:len(names)//2], names[len(names)//2:]\n",
        "res1 = [i + random.choice(sign)+ random.choice(departments)  for i in n_1]\n",
        "res2 = [random.choice(departments) +  random.choice(sign) + i  for i in n_last]\n",
        "\n",
        "for i in range(len(res1)):\n",
        "    new_file = open(res1[i] + random.choice(f_types), \"w\")\n",
        "    # os.remove(res1[i]+'.txt')\n",
        "\n",
        "for i in range(len(res2)):\n",
        "    new_file = open(res2[i] + random.choice(f_types), \"w\")\n",
        "\n",
        "for i in range(100):\n",
        "    new_file = open(f'{random.choice(names)} WORK{random.choice(f_types)}', \"w\")"
      ]
    },
    {
      "cell_type": "code",
      "execution_count": null,
      "id": "d8c49c0b",
      "metadata": {
        "id": "d8c49c0b"
      },
      "outputs": [],
      "source": []
    },
    {
      "cell_type": "code",
      "execution_count": null,
      "id": "f7655ea5",
      "metadata": {
        "id": "f7655ea5"
      },
      "outputs": [],
      "source": []
    }
  ],
  "metadata": {
    "kernelspec": {
      "display_name": "Python 3 (ipykernel)",
      "language": "python",
      "name": "python3"
    },
    "language_info": {
      "codemirror_mode": {
        "name": "ipython",
        "version": 3
      },
      "file_extension": ".py",
      "mimetype": "text/x-python",
      "name": "python",
      "nbconvert_exporter": "python",
      "pygments_lexer": "ipython3",
      "version": "3.9.13"
    },
    "colab": {
      "provenance": []
    }
  },
  "nbformat": 4,
  "nbformat_minor": 5
}